{
  "cells": [
    {
      "cell_type": "markdown",
      "metadata": {
        "colab_type": "text",
        "id": "11_QtarKSjPf"
      },
      "source": [
        "#### Basim Ahmad 17L-4022\n",
        "### Natural Language Processing\n",
        "      Assignment : 1"
      ]
    },
    {
      "cell_type": "code",
      "execution_count": null,
      "metadata": {
        "colab": {},
        "colab_type": "code",
        "id": "vIhS278lWQOv"
      },
      "outputs": [],
      "source": [
        "#pip install urduhack"
      ]
    },
    {
      "cell_type": "code",
      "execution_count": null,
      "metadata": {
        "colab": {},
        "colab_type": "code",
        "id": "XX4IBqUzWHMp"
      },
      "outputs": [],
      "source": [
        "import csv\n",
        "import urduhack\n",
        "from urduhack.tokenization import sentence_tokenizer"
      ]
    },
    {
      "cell_type": "markdown",
      "metadata": {
        "colab_type": "text",
        "id": "XChiPrRsSwjz"
      },
      "source": [
        "#### Reading Training File"
      ]
    },
    {
      "cell_type": "code",
      "execution_count": 8,
      "metadata": {
        "colab": {},
        "colab_type": "code",
        "id": "lxjaBCgOWYKt"
      },
      "outputs": [],
      "source": [
        "with open('urdu-train.txt', 'rt', encoding=\"utf-8\") as f:\n",
        "  reader = csv.reader(f)\n",
        "  train_data = list(reader)\n",
        "f.close()"
      ]
    },
    {
      "cell_type": "markdown",
      "metadata": {
        "colab_type": "text",
        "id": "_gaElHuGS4Qb"
      },
      "source": [
        "#### Reading Labeled File"
      ]
    },
    {
      "cell_type": "code",
      "execution_count": 9,
      "metadata": {
        "colab": {},
        "colab_type": "code",
        "id": "gnPi90zhegAM"
      },
      "outputs": [],
      "source": [
        "with open('urdu-test.txt', 'rt', encoding=\"utf-8\") as f:\n",
        "  reader = csv.reader(f)\n",
        "  test_data = list(reader)\n",
        "f.close()"
      ]
    },
    {
      "cell_type": "markdown",
      "metadata": {
        "colab_type": "text",
        "id": "JIEIcy0RY0vx"
      },
      "source": [
        "#### Accuracy"
      ]
    },
    {
      "cell_type": "markdown",
      "metadata": {
        "colab_type": "text",
        "id": "Ew0jEnnuY9W0"
      },
      "source": [
        "##### For Single Paragraph"
      ]
    },
    {
      "cell_type": "code",
      "execution_count": 10,
      "metadata": {
        "colab": {},
        "colab_type": "code",
        "id": "YVxXoZtCTJJN"
      },
      "outputs": [],
      "source": [
        "def acc(test_text,label_text):\n",
        "  correct=0\n",
        "  for i in label_text:\n",
        "    for j in test_text:\n",
        "      lb=i.split(' ')\n",
        "      ts=j.split(' ')\n",
        "      if(len(lb)>2 and len(ts)>2):\n",
        "        if(lb[-1]==ts[-1] and lb[-2]==ts[-2] and lb[-3]==ts[-3]):\n",
        "          correct=correct+1\n",
        "      else:\n",
        "        return('Error')\n",
        "  accuracy=(float(correct)/float(len(label_text)))*100\n",
        "  # print('Accuracy\\t=\\t'+str(accuracy)+'%')\n",
        "  return accuracy\n",
        "\n"
      ]
    },
    {
      "cell_type": "markdown",
      "metadata": {
        "colab_type": "text",
        "id": "C2kkMUO4ZFDs"
      },
      "source": [
        "##### For Multiple Paragraph"
      ]
    },
    {
      "cell_type": "code",
      "execution_count": 11,
      "metadata": {
        "colab": {},
        "colab_type": "code",
        "id": "2V1WzM4-Q4bY"
      },
      "outputs": [],
      "source": [
        "def Accuracy(train,test):\n",
        "\n",
        "  total=0\n",
        "  e=0\n",
        "  for i in range(len(test)):\n",
        "    train_text = sentence_tokenizer(train[i][0])\n",
        "    label_text = test[i][0].split('۔')\n",
        "    tmp=acc(train_text,label_text)\n",
        "    if(tmp!='Error'):\n",
        "          total=total+tmp\n",
        "    else:\n",
        "      e=e+1\n",
        "\n",
        "  accuracy=(float(total)/float(len(test)-e))\n",
        "  print('Accuracy\\t=\\t'+str(accuracy)+'%')\n",
        "\n"
      ]
    },
    {
      "cell_type": "code",
      "execution_count": 12,
      "metadata": {
        "colab": {},
        "colab_type": "code",
        "id": "tNpYuOgVXSfW"
      },
      "outputs": [],
      "source": [
        "test = train_data[0][0]\n",
        "label = test_data[0][0]"
      ]
    },
    {
      "cell_type": "markdown",
      "metadata": {
        "colab_type": "text",
        "id": "0zpiosslj6Q_"
      },
      "source": [
        "#### URDUhack"
      ]
    },
    {
      "cell_type": "code",
      "execution_count": null,
      "metadata": {
        "colab": {},
        "colab_type": "code",
        "id": "15HJy4e1XU1c"
      },
      "outputs": [],
      "source": [
        "test_text = sentence_tokenizer(test)"
      ]
    },
    {
      "cell_type": "code",
      "execution_count": 15,
      "metadata": {
        "colab": {},
        "colab_type": "code",
        "id": "72Nh1JgFTtTp"
      },
      "outputs": [],
      "source": [
        "def startWords(param):\n",
        "    ret = set()\n",
        "    compWords = param.split('-')\n",
        "    x =1 \n",
        "    for x in range(len(compWords)):\n",
        "        current = compWords[x].split()\n",
        "        temp = current[0]\n",
        "        ret.add(temp)\n",
        "    return ret       "
      ]
    },
    {
      "cell_type": "code",
      "execution_count": 16,
      "metadata": {},
      "outputs": [],
      "source": [
        "def endWords(param):\n",
        "    ret = set()\n",
        "    compWords = param.split('-')\n",
        "    for x in range(len(compWords)):\n",
        "        current = compWords[x].split()\n",
        "        temp = current[len(current)-1]\n",
        "        ret.add(temp)\n",
        "    return ret"
      ]
    },
    {
      "cell_type": "code",
      "execution_count": 17,
      "metadata": {},
      "outputs": [],
      "source": [
        "EndResult = endWords(label)\n",
        "StartResult = startWords(label)"
      ]
    },
    {
      "cell_type": "code",
      "execution_count": 21,
      "metadata": {},
      "outputs": [],
      "source": [
        "def parseData(param,eW,sW):\n",
        "    listOfWords = param.split()\n",
        "    compWords = ''\n",
        "    ind =0\n",
        "    for x in range(len(listOfWords)-1):\n",
        "        if listOfWords[x] not in eW or ind <=2 or listOfWords[x+1] not in sW:\n",
        "            compWords = compWords+listOfWords[x]\n",
        "            compWords = compWords+' '\n",
        "            ind = ind +1\n",
        "        else:\n",
        "            compWords = compWords+listOfWords[x]\n",
        "            compWords = compWords + '-'\n",
        "            ind =0\n",
        "    return compWords"
      ]
    },
    {
      "cell_type": "code",
      "execution_count": 22,
      "metadata": {},
      "outputs": [],
      "source": [
        "for x in range(len(train_data)):\n",
        "    train_data[x][0] = parseData(train_data[x][0], EndResult,StartResult)"
      ]
    },
    {
      "cell_type": "code",
      "execution_count": 23,
      "metadata": {},
      "outputs": [],
      "source": [
        "parsed = parseData(test,EndResult,StartResult)\n",
        "chkAcc = parsed.split('-')"
      ]
    },
    {
      "cell_type": "markdown",
      "metadata": {},
      "source": [
        "#### Label"
      ]
    },
    {
      "cell_type": "code",
      "execution_count": 25,
      "metadata": {
        "colab": {},
        "colab_type": "code",
        "id": "n2YkvsjHkVff"
      },
      "outputs": [],
      "source": [
        "label_text=label.split('۔')"
      ]
    },
    {
      "cell_type": "markdown",
      "metadata": {
        "colab_type": "text",
        "id": "YZ83jAJ3S-uR"
      },
      "source": [
        "#### Results"
      ]
    },
    {
      "cell_type": "code",
      "execution_count": null,
      "metadata": {
        "colab": {
          "base_uri": "https://localhost:8080/",
          "height": 34
        },
        "colab_type": "code",
        "id": "OyFZPRIGlWNy",
        "outputId": "acc0337b-66a1-4fd5-a803-266c7b5ecc67"
      },
      "outputs": [],
      "source": [
        "acc(chkAcc,label_text)"
      ]
    },
    {
      "cell_type": "code",
      "execution_count": null,
      "metadata": {
        "colab": {
          "base_uri": "https://localhost:8080/",
          "height": 34
        },
        "colab_type": "code",
        "id": "dHZl0AEuDVBK",
        "outputId": "87bca22c-7045-4121-c36a-6879bafbf83c"
      },
      "outputs": [],
      "source": [
        "Accuracy(train_data,test_data)"
      ]
    }
  ],
  "metadata": {
    "colab": {
      "collapsed_sections": [],
      "name": "NLP 1.ipynb",
      "provenance": [],
      "toc_visible": true
    },
    "kernelspec": {
      "display_name": "Python 3",
      "name": "python3"
    },
    "language_info": {
      "codemirror_mode": {
        "name": "ipython",
        "version": 3
      },
      "file_extension": ".py",
      "mimetype": "text/x-python",
      "name": "python",
      "nbconvert_exporter": "python",
      "pygments_lexer": "ipython3",
      "version": "3.10.1"
    }
  },
  "nbformat": 4,
  "nbformat_minor": 0
}
